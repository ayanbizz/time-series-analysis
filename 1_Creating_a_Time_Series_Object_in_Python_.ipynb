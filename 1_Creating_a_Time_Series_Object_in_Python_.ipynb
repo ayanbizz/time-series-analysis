{
  "nbformat": 4,
  "nbformat_minor": 0,
  "metadata": {
    "kernelspec": {
      "display_name": "Python 3",
      "language": "python",
      "name": "python3"
    },
    "language_info": {
      "codemirror_mode": {
        "name": "ipython",
        "version": 3
      },
      "file_extension": ".py",
      "mimetype": "text/x-python",
      "name": "python",
      "nbconvert_exporter": "python",
      "pygments_lexer": "ipython3",
      "version": "3.6.7"
    },
    "colab": {
      "name": "1- Creating a Time Series Object in Python .ipynb",
      "provenance": [],
      "toc_visible": true,
      "include_colab_link": true
    }
  },
  "cells": [
    {
      "cell_type": "markdown",
      "metadata": {
        "id": "view-in-github",
        "colab_type": "text"
      },
      "source": [
        "<a href=\"https://colab.research.google.com/github/ayanbizz/time-series-analysis/blob/master/1_Creating_a_Time_Series_Object_in_Python_.ipynb\" target=\"_parent\"><img src=\"https://colab.research.google.com/assets/colab-badge.svg\" alt=\"Open In Colab\"/></a>"
      ]
    },
    {
      "cell_type": "markdown",
      "metadata": {
        "id": "DF-rmqOcQywH",
        "colab_type": "text"
      },
      "source": [
        "### Importing the Packages"
      ]
    },
    {
      "cell_type": "code",
      "metadata": {
        "id": "ya_Y5to4QywM",
        "colab_type": "code",
        "colab": {}
      },
      "source": [
        "import pandas as pd\n",
        "import numpy as np"
      ],
      "execution_count": 2,
      "outputs": []
    },
    {
      "cell_type": "markdown",
      "metadata": {
        "id": "CSDJYYaZQywc",
        "colab_type": "text"
      },
      "source": [
        "### Importing the data "
      ]
    },
    {
      "cell_type": "code",
      "metadata": {
        "id": "3PIzgLC9Qywf",
        "colab_type": "code",
        "colab": {}
      },
      "source": [
        "raw_csv_data = pd.read_csv(\"Index2018.csv\") \n",
        "df_comp=raw_csv_data.copy() "
      ],
      "execution_count": 3,
      "outputs": []
    },
    {
      "cell_type": "markdown",
      "metadata": {
        "id": "EXyKWxPJQywr",
        "colab_type": "text"
      },
      "source": [
        "### Lenght of the Time Period"
      ]
    },
    {
      "cell_type": "code",
      "metadata": {
        "scrolled": true,
        "id": "FT9cQDP_Qywt",
        "colab_type": "code",
        "colab": {
          "base_uri": "https://localhost:8080/",
          "height": 291
        },
        "outputId": "d2166c92-3397-45a3-9d51-9696b6ceaf19"
      },
      "source": [
        "df_comp.describe()"
      ],
      "execution_count": 4,
      "outputs": [
        {
          "output_type": "execute_result",
          "data": {
            "text/html": [
              "<div>\n",
              "<style scoped>\n",
              "    .dataframe tbody tr th:only-of-type {\n",
              "        vertical-align: middle;\n",
              "    }\n",
              "\n",
              "    .dataframe tbody tr th {\n",
              "        vertical-align: top;\n",
              "    }\n",
              "\n",
              "    .dataframe thead th {\n",
              "        text-align: right;\n",
              "    }\n",
              "</style>\n",
              "<table border=\"1\" class=\"dataframe\">\n",
              "  <thead>\n",
              "    <tr style=\"text-align: right;\">\n",
              "      <th></th>\n",
              "      <th>spx</th>\n",
              "      <th>dax</th>\n",
              "      <th>ftse</th>\n",
              "      <th>nikkei</th>\n",
              "    </tr>\n",
              "  </thead>\n",
              "  <tbody>\n",
              "    <tr>\n",
              "      <th>count</th>\n",
              "      <td>6269.000000</td>\n",
              "      <td>6269.000000</td>\n",
              "      <td>6269.000000</td>\n",
              "      <td>6269.000000</td>\n",
              "    </tr>\n",
              "    <tr>\n",
              "      <th>mean</th>\n",
              "      <td>1288.127542</td>\n",
              "      <td>6080.063363</td>\n",
              "      <td>5422.713545</td>\n",
              "      <td>14597.055700</td>\n",
              "    </tr>\n",
              "    <tr>\n",
              "      <th>std</th>\n",
              "      <td>487.586473</td>\n",
              "      <td>2754.361032</td>\n",
              "      <td>1145.572428</td>\n",
              "      <td>4043.122953</td>\n",
              "    </tr>\n",
              "    <tr>\n",
              "      <th>min</th>\n",
              "      <td>438.920000</td>\n",
              "      <td>1911.700000</td>\n",
              "      <td>2876.600000</td>\n",
              "      <td>7054.980000</td>\n",
              "    </tr>\n",
              "    <tr>\n",
              "      <th>25%</th>\n",
              "      <td>990.671905</td>\n",
              "      <td>4069.350000</td>\n",
              "      <td>4486.100000</td>\n",
              "      <td>10709.290000</td>\n",
              "    </tr>\n",
              "    <tr>\n",
              "      <th>50%</th>\n",
              "      <td>1233.420000</td>\n",
              "      <td>5773.340000</td>\n",
              "      <td>5662.430000</td>\n",
              "      <td>15028.170000</td>\n",
              "    </tr>\n",
              "    <tr>\n",
              "      <th>75%</th>\n",
              "      <td>1459.987747</td>\n",
              "      <td>7443.070000</td>\n",
              "      <td>6304.250000</td>\n",
              "      <td>17860.470000</td>\n",
              "    </tr>\n",
              "    <tr>\n",
              "      <th>max</th>\n",
              "      <td>2872.867839</td>\n",
              "      <td>13559.600000</td>\n",
              "      <td>7778.637689</td>\n",
              "      <td>24124.150000</td>\n",
              "    </tr>\n",
              "  </tbody>\n",
              "</table>\n",
              "</div>"
            ],
            "text/plain": [
              "               spx           dax         ftse        nikkei\n",
              "count  6269.000000   6269.000000  6269.000000   6269.000000\n",
              "mean   1288.127542   6080.063363  5422.713545  14597.055700\n",
              "std     487.586473   2754.361032  1145.572428   4043.122953\n",
              "min     438.920000   1911.700000  2876.600000   7054.980000\n",
              "25%     990.671905   4069.350000  4486.100000  10709.290000\n",
              "50%    1233.420000   5773.340000  5662.430000  15028.170000\n",
              "75%    1459.987747   7443.070000  6304.250000  17860.470000\n",
              "max    2872.867839  13559.600000  7778.637689  24124.150000"
            ]
          },
          "metadata": {
            "tags": []
          },
          "execution_count": 4
        }
      ]
    },
    {
      "cell_type": "code",
      "metadata": {
        "id": "fiekUn00Qyw5",
        "colab_type": "code",
        "colab": {
          "base_uri": "https://localhost:8080/",
          "height": 200
        },
        "outputId": "aa283c6e-0a3a-49d4-8021-4da443e9ceab"
      },
      "source": [
        "df_comp.head()"
      ],
      "execution_count": 5,
      "outputs": [
        {
          "output_type": "execute_result",
          "data": {
            "text/html": [
              "<div>\n",
              "<style scoped>\n",
              "    .dataframe tbody tr th:only-of-type {\n",
              "        vertical-align: middle;\n",
              "    }\n",
              "\n",
              "    .dataframe tbody tr th {\n",
              "        vertical-align: top;\n",
              "    }\n",
              "\n",
              "    .dataframe thead th {\n",
              "        text-align: right;\n",
              "    }\n",
              "</style>\n",
              "<table border=\"1\" class=\"dataframe\">\n",
              "  <thead>\n",
              "    <tr style=\"text-align: right;\">\n",
              "      <th></th>\n",
              "      <th>date</th>\n",
              "      <th>spx</th>\n",
              "      <th>dax</th>\n",
              "      <th>ftse</th>\n",
              "      <th>nikkei</th>\n",
              "    </tr>\n",
              "  </thead>\n",
              "  <tbody>\n",
              "    <tr>\n",
              "      <th>0</th>\n",
              "      <td>07/01/1994</td>\n",
              "      <td>469.90</td>\n",
              "      <td>2224.95</td>\n",
              "      <td>3445.98</td>\n",
              "      <td>18124.01</td>\n",
              "    </tr>\n",
              "    <tr>\n",
              "      <th>1</th>\n",
              "      <td>10/01/1994</td>\n",
              "      <td>475.27</td>\n",
              "      <td>2225.00</td>\n",
              "      <td>3440.58</td>\n",
              "      <td>18443.44</td>\n",
              "    </tr>\n",
              "    <tr>\n",
              "      <th>2</th>\n",
              "      <td>11/01/1994</td>\n",
              "      <td>474.13</td>\n",
              "      <td>2228.10</td>\n",
              "      <td>3413.77</td>\n",
              "      <td>18485.25</td>\n",
              "    </tr>\n",
              "    <tr>\n",
              "      <th>3</th>\n",
              "      <td>12/01/1994</td>\n",
              "      <td>474.17</td>\n",
              "      <td>2182.06</td>\n",
              "      <td>3372.02</td>\n",
              "      <td>18793.88</td>\n",
              "    </tr>\n",
              "    <tr>\n",
              "      <th>4</th>\n",
              "      <td>13/01/1994</td>\n",
              "      <td>472.47</td>\n",
              "      <td>2142.37</td>\n",
              "      <td>3360.01</td>\n",
              "      <td>18577.26</td>\n",
              "    </tr>\n",
              "  </tbody>\n",
              "</table>\n",
              "</div>"
            ],
            "text/plain": [
              "         date     spx      dax     ftse    nikkei\n",
              "0  07/01/1994  469.90  2224.95  3445.98  18124.01\n",
              "1  10/01/1994  475.27  2225.00  3440.58  18443.44\n",
              "2  11/01/1994  474.13  2228.10  3413.77  18485.25\n",
              "3  12/01/1994  474.17  2182.06  3372.02  18793.88\n",
              "4  13/01/1994  472.47  2142.37  3360.01  18577.26"
            ]
          },
          "metadata": {
            "tags": []
          },
          "execution_count": 5
        }
      ]
    },
    {
      "cell_type": "code",
      "metadata": {
        "scrolled": false,
        "id": "ouin2XhYQyw_",
        "colab_type": "code",
        "colab": {
          "base_uri": "https://localhost:8080/",
          "height": 106
        },
        "outputId": "ad26e06f-36f0-4bc2-f5bb-6f3d92686ffe"
      },
      "source": [
        "df_comp.date.describe()"
      ],
      "execution_count": 6,
      "outputs": [
        {
          "output_type": "execute_result",
          "data": {
            "text/plain": [
              "count           6269\n",
              "unique          6269\n",
              "top       04/07/2005\n",
              "freq               1\n",
              "Name: date, dtype: object"
            ]
          },
          "metadata": {
            "tags": []
          },
          "execution_count": 6
        }
      ]
    },
    {
      "cell_type": "markdown",
      "metadata": {
        "id": "i5WYExv5QyxD",
        "colab_type": "text"
      },
      "source": [
        "### From Text to Date"
      ]
    },
    {
      "cell_type": "code",
      "metadata": {
        "id": "tHyOFaNlQyxE",
        "colab_type": "code",
        "colab": {}
      },
      "source": [
        "df_comp.date = pd.to_datetime(df_comp.date, dayfirst = True)"
      ],
      "execution_count": 7,
      "outputs": []
    },
    {
      "cell_type": "code",
      "metadata": {
        "scrolled": true,
        "id": "TY3P5FPyQyxJ",
        "colab_type": "code",
        "colab": {
          "base_uri": "https://localhost:8080/",
          "height": 200
        },
        "outputId": "405bb685-a2a4-4440-dc4d-58147a0a1452"
      },
      "source": [
        "df_comp.head()"
      ],
      "execution_count": 8,
      "outputs": [
        {
          "output_type": "execute_result",
          "data": {
            "text/html": [
              "<div>\n",
              "<style scoped>\n",
              "    .dataframe tbody tr th:only-of-type {\n",
              "        vertical-align: middle;\n",
              "    }\n",
              "\n",
              "    .dataframe tbody tr th {\n",
              "        vertical-align: top;\n",
              "    }\n",
              "\n",
              "    .dataframe thead th {\n",
              "        text-align: right;\n",
              "    }\n",
              "</style>\n",
              "<table border=\"1\" class=\"dataframe\">\n",
              "  <thead>\n",
              "    <tr style=\"text-align: right;\">\n",
              "      <th></th>\n",
              "      <th>date</th>\n",
              "      <th>spx</th>\n",
              "      <th>dax</th>\n",
              "      <th>ftse</th>\n",
              "      <th>nikkei</th>\n",
              "    </tr>\n",
              "  </thead>\n",
              "  <tbody>\n",
              "    <tr>\n",
              "      <th>0</th>\n",
              "      <td>1994-01-07</td>\n",
              "      <td>469.90</td>\n",
              "      <td>2224.95</td>\n",
              "      <td>3445.98</td>\n",
              "      <td>18124.01</td>\n",
              "    </tr>\n",
              "    <tr>\n",
              "      <th>1</th>\n",
              "      <td>1994-01-10</td>\n",
              "      <td>475.27</td>\n",
              "      <td>2225.00</td>\n",
              "      <td>3440.58</td>\n",
              "      <td>18443.44</td>\n",
              "    </tr>\n",
              "    <tr>\n",
              "      <th>2</th>\n",
              "      <td>1994-01-11</td>\n",
              "      <td>474.13</td>\n",
              "      <td>2228.10</td>\n",
              "      <td>3413.77</td>\n",
              "      <td>18485.25</td>\n",
              "    </tr>\n",
              "    <tr>\n",
              "      <th>3</th>\n",
              "      <td>1994-01-12</td>\n",
              "      <td>474.17</td>\n",
              "      <td>2182.06</td>\n",
              "      <td>3372.02</td>\n",
              "      <td>18793.88</td>\n",
              "    </tr>\n",
              "    <tr>\n",
              "      <th>4</th>\n",
              "      <td>1994-01-13</td>\n",
              "      <td>472.47</td>\n",
              "      <td>2142.37</td>\n",
              "      <td>3360.01</td>\n",
              "      <td>18577.26</td>\n",
              "    </tr>\n",
              "  </tbody>\n",
              "</table>\n",
              "</div>"
            ],
            "text/plain": [
              "        date     spx      dax     ftse    nikkei\n",
              "0 1994-01-07  469.90  2224.95  3445.98  18124.01\n",
              "1 1994-01-10  475.27  2225.00  3440.58  18443.44\n",
              "2 1994-01-11  474.13  2228.10  3413.77  18485.25\n",
              "3 1994-01-12  474.17  2182.06  3372.02  18793.88\n",
              "4 1994-01-13  472.47  2142.37  3360.01  18577.26"
            ]
          },
          "metadata": {
            "tags": []
          },
          "execution_count": 8
        }
      ]
    },
    {
      "cell_type": "code",
      "metadata": {
        "id": "whgDOfpUQyxN",
        "colab_type": "code",
        "colab": {
          "base_uri": "https://localhost:8080/",
          "height": 141
        },
        "outputId": "ad96136a-b51a-41ca-f0ae-f17b898ca8d6"
      },
      "source": [
        "df_comp.date.describe()"
      ],
      "execution_count": 9,
      "outputs": [
        {
          "output_type": "execute_result",
          "data": {
            "text/plain": [
              "count                    6269\n",
              "unique                   6269\n",
              "top       1999-08-23 00:00:00\n",
              "freq                        1\n",
              "first     1994-01-07 00:00:00\n",
              "last      2018-01-29 00:00:00\n",
              "Name: date, dtype: object"
            ]
          },
          "metadata": {
            "tags": []
          },
          "execution_count": 9
        }
      ]
    },
    {
      "cell_type": "markdown",
      "metadata": {
        "id": "zp57giyuQyxQ",
        "colab_type": "text"
      },
      "source": [
        "### Setting the Index"
      ]
    },
    {
      "cell_type": "code",
      "metadata": {
        "scrolled": false,
        "id": "zq2QEaOeQyxR",
        "colab_type": "code",
        "colab": {
          "base_uri": "https://localhost:8080/",
          "height": 441
        },
        "outputId": "bdf393d7-e1cf-4cf9-ec8e-7a5086e1c26e"
      },
      "source": [
        "df_comp.set_index(\"date\")"
      ],
      "execution_count": 10,
      "outputs": [
        {
          "output_type": "execute_result",
          "data": {
            "text/html": [
              "<div>\n",
              "<style scoped>\n",
              "    .dataframe tbody tr th:only-of-type {\n",
              "        vertical-align: middle;\n",
              "    }\n",
              "\n",
              "    .dataframe tbody tr th {\n",
              "        vertical-align: top;\n",
              "    }\n",
              "\n",
              "    .dataframe thead th {\n",
              "        text-align: right;\n",
              "    }\n",
              "</style>\n",
              "<table border=\"1\" class=\"dataframe\">\n",
              "  <thead>\n",
              "    <tr style=\"text-align: right;\">\n",
              "      <th></th>\n",
              "      <th>spx</th>\n",
              "      <th>dax</th>\n",
              "      <th>ftse</th>\n",
              "      <th>nikkei</th>\n",
              "    </tr>\n",
              "    <tr>\n",
              "      <th>date</th>\n",
              "      <th></th>\n",
              "      <th></th>\n",
              "      <th></th>\n",
              "      <th></th>\n",
              "    </tr>\n",
              "  </thead>\n",
              "  <tbody>\n",
              "    <tr>\n",
              "      <th>1994-01-07</th>\n",
              "      <td>469.900000</td>\n",
              "      <td>2224.95</td>\n",
              "      <td>3445.980000</td>\n",
              "      <td>18124.01</td>\n",
              "    </tr>\n",
              "    <tr>\n",
              "      <th>1994-01-10</th>\n",
              "      <td>475.270000</td>\n",
              "      <td>2225.00</td>\n",
              "      <td>3440.580000</td>\n",
              "      <td>18443.44</td>\n",
              "    </tr>\n",
              "    <tr>\n",
              "      <th>1994-01-11</th>\n",
              "      <td>474.130000</td>\n",
              "      <td>2228.10</td>\n",
              "      <td>3413.770000</td>\n",
              "      <td>18485.25</td>\n",
              "    </tr>\n",
              "    <tr>\n",
              "      <th>1994-01-12</th>\n",
              "      <td>474.170000</td>\n",
              "      <td>2182.06</td>\n",
              "      <td>3372.020000</td>\n",
              "      <td>18793.88</td>\n",
              "    </tr>\n",
              "    <tr>\n",
              "      <th>1994-01-13</th>\n",
              "      <td>472.470000</td>\n",
              "      <td>2142.37</td>\n",
              "      <td>3360.010000</td>\n",
              "      <td>18577.26</td>\n",
              "    </tr>\n",
              "    <tr>\n",
              "      <th>...</th>\n",
              "      <td>...</td>\n",
              "      <td>...</td>\n",
              "      <td>...</td>\n",
              "      <td>...</td>\n",
              "    </tr>\n",
              "    <tr>\n",
              "      <th>2018-01-23</th>\n",
              "      <td>2839.130362</td>\n",
              "      <td>13559.60</td>\n",
              "      <td>7731.827774</td>\n",
              "      <td>24124.15</td>\n",
              "    </tr>\n",
              "    <tr>\n",
              "      <th>2018-01-24</th>\n",
              "      <td>2837.544008</td>\n",
              "      <td>13414.74</td>\n",
              "      <td>7643.428966</td>\n",
              "      <td>23940.78</td>\n",
              "    </tr>\n",
              "    <tr>\n",
              "      <th>2018-01-25</th>\n",
              "      <td>2839.253031</td>\n",
              "      <td>13298.36</td>\n",
              "      <td>7615.839954</td>\n",
              "      <td>23669.49</td>\n",
              "    </tr>\n",
              "    <tr>\n",
              "      <th>2018-01-26</th>\n",
              "      <td>2872.867839</td>\n",
              "      <td>13340.17</td>\n",
              "      <td>7665.541292</td>\n",
              "      <td>23631.88</td>\n",
              "    </tr>\n",
              "    <tr>\n",
              "      <th>2018-01-29</th>\n",
              "      <td>2853.528411</td>\n",
              "      <td>13324.48</td>\n",
              "      <td>7671.533300</td>\n",
              "      <td>23629.34</td>\n",
              "    </tr>\n",
              "  </tbody>\n",
              "</table>\n",
              "<p>6269 rows × 4 columns</p>\n",
              "</div>"
            ],
            "text/plain": [
              "                    spx       dax         ftse    nikkei\n",
              "date                                                    \n",
              "1994-01-07   469.900000   2224.95  3445.980000  18124.01\n",
              "1994-01-10   475.270000   2225.00  3440.580000  18443.44\n",
              "1994-01-11   474.130000   2228.10  3413.770000  18485.25\n",
              "1994-01-12   474.170000   2182.06  3372.020000  18793.88\n",
              "1994-01-13   472.470000   2142.37  3360.010000  18577.26\n",
              "...                 ...       ...          ...       ...\n",
              "2018-01-23  2839.130362  13559.60  7731.827774  24124.15\n",
              "2018-01-24  2837.544008  13414.74  7643.428966  23940.78\n",
              "2018-01-25  2839.253031  13298.36  7615.839954  23669.49\n",
              "2018-01-26  2872.867839  13340.17  7665.541292  23631.88\n",
              "2018-01-29  2853.528411  13324.48  7671.533300  23629.34\n",
              "\n",
              "[6269 rows x 4 columns]"
            ]
          },
          "metadata": {
            "tags": []
          },
          "execution_count": 10
        }
      ]
    },
    {
      "cell_type": "code",
      "metadata": {
        "id": "WaRbQD8nQyxU",
        "colab_type": "code",
        "colab": {}
      },
      "source": [
        "df_comp.set_index(\"date\", inplace=True)"
      ],
      "execution_count": 11,
      "outputs": []
    },
    {
      "cell_type": "code",
      "metadata": {
        "id": "7qPUBcWGQyxY",
        "colab_type": "code",
        "colab": {
          "base_uri": "https://localhost:8080/",
          "height": 230
        },
        "outputId": "b0d1a07d-8bad-4357-9414-ab2b7d657d9a"
      },
      "source": [
        "df_comp.head()"
      ],
      "execution_count": 12,
      "outputs": [
        {
          "output_type": "execute_result",
          "data": {
            "text/html": [
              "<div>\n",
              "<style scoped>\n",
              "    .dataframe tbody tr th:only-of-type {\n",
              "        vertical-align: middle;\n",
              "    }\n",
              "\n",
              "    .dataframe tbody tr th {\n",
              "        vertical-align: top;\n",
              "    }\n",
              "\n",
              "    .dataframe thead th {\n",
              "        text-align: right;\n",
              "    }\n",
              "</style>\n",
              "<table border=\"1\" class=\"dataframe\">\n",
              "  <thead>\n",
              "    <tr style=\"text-align: right;\">\n",
              "      <th></th>\n",
              "      <th>spx</th>\n",
              "      <th>dax</th>\n",
              "      <th>ftse</th>\n",
              "      <th>nikkei</th>\n",
              "    </tr>\n",
              "    <tr>\n",
              "      <th>date</th>\n",
              "      <th></th>\n",
              "      <th></th>\n",
              "      <th></th>\n",
              "      <th></th>\n",
              "    </tr>\n",
              "  </thead>\n",
              "  <tbody>\n",
              "    <tr>\n",
              "      <th>1994-01-07</th>\n",
              "      <td>469.90</td>\n",
              "      <td>2224.95</td>\n",
              "      <td>3445.98</td>\n",
              "      <td>18124.01</td>\n",
              "    </tr>\n",
              "    <tr>\n",
              "      <th>1994-01-10</th>\n",
              "      <td>475.27</td>\n",
              "      <td>2225.00</td>\n",
              "      <td>3440.58</td>\n",
              "      <td>18443.44</td>\n",
              "    </tr>\n",
              "    <tr>\n",
              "      <th>1994-01-11</th>\n",
              "      <td>474.13</td>\n",
              "      <td>2228.10</td>\n",
              "      <td>3413.77</td>\n",
              "      <td>18485.25</td>\n",
              "    </tr>\n",
              "    <tr>\n",
              "      <th>1994-01-12</th>\n",
              "      <td>474.17</td>\n",
              "      <td>2182.06</td>\n",
              "      <td>3372.02</td>\n",
              "      <td>18793.88</td>\n",
              "    </tr>\n",
              "    <tr>\n",
              "      <th>1994-01-13</th>\n",
              "      <td>472.47</td>\n",
              "      <td>2142.37</td>\n",
              "      <td>3360.01</td>\n",
              "      <td>18577.26</td>\n",
              "    </tr>\n",
              "  </tbody>\n",
              "</table>\n",
              "</div>"
            ],
            "text/plain": [
              "               spx      dax     ftse    nikkei\n",
              "date                                          \n",
              "1994-01-07  469.90  2224.95  3445.98  18124.01\n",
              "1994-01-10  475.27  2225.00  3440.58  18443.44\n",
              "1994-01-11  474.13  2228.10  3413.77  18485.25\n",
              "1994-01-12  474.17  2182.06  3372.02  18793.88\n",
              "1994-01-13  472.47  2142.37  3360.01  18577.26"
            ]
          },
          "metadata": {
            "tags": []
          },
          "execution_count": 12
        }
      ]
    },
    {
      "cell_type": "code",
      "metadata": {
        "id": "YLn88hx-Qyxd",
        "colab_type": "code",
        "colab": {}
      },
      "source": [
        "#df_comp.date.describe() #Expect to get an error message because we no longer have a \"date\" column since it is the index"
      ],
      "execution_count": null,
      "outputs": []
    },
    {
      "cell_type": "markdown",
      "metadata": {
        "id": "xFw8T2O_Qyxg",
        "colab_type": "text"
      },
      "source": [
        "### Setting the Desired Frequency"
      ]
    },
    {
      "cell_type": "code",
      "metadata": {
        "id": "72h3Y5fYQyxg",
        "colab_type": "code",
        "colab": {}
      },
      "source": [
        "df_comp=df_comp.asfreq('d')"
      ],
      "execution_count": 14,
      "outputs": []
    },
    {
      "cell_type": "code",
      "metadata": {
        "scrolled": true,
        "id": "34dzExAiQyxj",
        "colab_type": "code",
        "colab": {
          "base_uri": "https://localhost:8080/",
          "height": 441
        },
        "outputId": "5fb92da0-efd4-4e38-80e0-b547db75ea57"
      },
      "source": [
        "df_comp"
      ],
      "execution_count": 15,
      "outputs": [
        {
          "output_type": "execute_result",
          "data": {
            "text/html": [
              "<div>\n",
              "<style scoped>\n",
              "    .dataframe tbody tr th:only-of-type {\n",
              "        vertical-align: middle;\n",
              "    }\n",
              "\n",
              "    .dataframe tbody tr th {\n",
              "        vertical-align: top;\n",
              "    }\n",
              "\n",
              "    .dataframe thead th {\n",
              "        text-align: right;\n",
              "    }\n",
              "</style>\n",
              "<table border=\"1\" class=\"dataframe\">\n",
              "  <thead>\n",
              "    <tr style=\"text-align: right;\">\n",
              "      <th></th>\n",
              "      <th>spx</th>\n",
              "      <th>dax</th>\n",
              "      <th>ftse</th>\n",
              "      <th>nikkei</th>\n",
              "    </tr>\n",
              "    <tr>\n",
              "      <th>date</th>\n",
              "      <th></th>\n",
              "      <th></th>\n",
              "      <th></th>\n",
              "      <th></th>\n",
              "    </tr>\n",
              "  </thead>\n",
              "  <tbody>\n",
              "    <tr>\n",
              "      <th>1994-01-07</th>\n",
              "      <td>469.900000</td>\n",
              "      <td>2224.95</td>\n",
              "      <td>3445.980000</td>\n",
              "      <td>18124.01</td>\n",
              "    </tr>\n",
              "    <tr>\n",
              "      <th>1994-01-08</th>\n",
              "      <td>NaN</td>\n",
              "      <td>NaN</td>\n",
              "      <td>NaN</td>\n",
              "      <td>NaN</td>\n",
              "    </tr>\n",
              "    <tr>\n",
              "      <th>1994-01-09</th>\n",
              "      <td>NaN</td>\n",
              "      <td>NaN</td>\n",
              "      <td>NaN</td>\n",
              "      <td>NaN</td>\n",
              "    </tr>\n",
              "    <tr>\n",
              "      <th>1994-01-10</th>\n",
              "      <td>475.270000</td>\n",
              "      <td>2225.00</td>\n",
              "      <td>3440.580000</td>\n",
              "      <td>18443.44</td>\n",
              "    </tr>\n",
              "    <tr>\n",
              "      <th>1994-01-11</th>\n",
              "      <td>474.130000</td>\n",
              "      <td>2228.10</td>\n",
              "      <td>3413.770000</td>\n",
              "      <td>18485.25</td>\n",
              "    </tr>\n",
              "    <tr>\n",
              "      <th>...</th>\n",
              "      <td>...</td>\n",
              "      <td>...</td>\n",
              "      <td>...</td>\n",
              "      <td>...</td>\n",
              "    </tr>\n",
              "    <tr>\n",
              "      <th>2018-01-25</th>\n",
              "      <td>2839.253031</td>\n",
              "      <td>13298.36</td>\n",
              "      <td>7615.839954</td>\n",
              "      <td>23669.49</td>\n",
              "    </tr>\n",
              "    <tr>\n",
              "      <th>2018-01-26</th>\n",
              "      <td>2872.867839</td>\n",
              "      <td>13340.17</td>\n",
              "      <td>7665.541292</td>\n",
              "      <td>23631.88</td>\n",
              "    </tr>\n",
              "    <tr>\n",
              "      <th>2018-01-27</th>\n",
              "      <td>NaN</td>\n",
              "      <td>NaN</td>\n",
              "      <td>NaN</td>\n",
              "      <td>NaN</td>\n",
              "    </tr>\n",
              "    <tr>\n",
              "      <th>2018-01-28</th>\n",
              "      <td>NaN</td>\n",
              "      <td>NaN</td>\n",
              "      <td>NaN</td>\n",
              "      <td>NaN</td>\n",
              "    </tr>\n",
              "    <tr>\n",
              "      <th>2018-01-29</th>\n",
              "      <td>2853.528411</td>\n",
              "      <td>13324.48</td>\n",
              "      <td>7671.533300</td>\n",
              "      <td>23629.34</td>\n",
              "    </tr>\n",
              "  </tbody>\n",
              "</table>\n",
              "<p>8789 rows × 4 columns</p>\n",
              "</div>"
            ],
            "text/plain": [
              "                    spx       dax         ftse    nikkei\n",
              "date                                                    \n",
              "1994-01-07   469.900000   2224.95  3445.980000  18124.01\n",
              "1994-01-08          NaN       NaN          NaN       NaN\n",
              "1994-01-09          NaN       NaN          NaN       NaN\n",
              "1994-01-10   475.270000   2225.00  3440.580000  18443.44\n",
              "1994-01-11   474.130000   2228.10  3413.770000  18485.25\n",
              "...                 ...       ...          ...       ...\n",
              "2018-01-25  2839.253031  13298.36  7615.839954  23669.49\n",
              "2018-01-26  2872.867839  13340.17  7665.541292  23631.88\n",
              "2018-01-27          NaN       NaN          NaN       NaN\n",
              "2018-01-28          NaN       NaN          NaN       NaN\n",
              "2018-01-29  2853.528411  13324.48  7671.533300  23629.34\n",
              "\n",
              "[8789 rows x 4 columns]"
            ]
          },
          "metadata": {
            "tags": []
          },
          "execution_count": 15
        }
      ]
    },
    {
      "cell_type": "code",
      "metadata": {
        "id": "ByCkMTs8Qyxn",
        "colab_type": "code",
        "colab": {}
      },
      "source": [
        "df_comp=df_comp.asfreq('b')"
      ],
      "execution_count": 16,
      "outputs": []
    },
    {
      "cell_type": "code",
      "metadata": {
        "id": "Tusw3QlDQyxq",
        "colab_type": "code",
        "colab": {
          "base_uri": "https://localhost:8080/",
          "height": 230
        },
        "outputId": "6c501b1d-dc87-42ae-9fd7-63f1b4f33d46"
      },
      "source": [
        "df_comp.head()"
      ],
      "execution_count": 17,
      "outputs": [
        {
          "output_type": "execute_result",
          "data": {
            "text/html": [
              "<div>\n",
              "<style scoped>\n",
              "    .dataframe tbody tr th:only-of-type {\n",
              "        vertical-align: middle;\n",
              "    }\n",
              "\n",
              "    .dataframe tbody tr th {\n",
              "        vertical-align: top;\n",
              "    }\n",
              "\n",
              "    .dataframe thead th {\n",
              "        text-align: right;\n",
              "    }\n",
              "</style>\n",
              "<table border=\"1\" class=\"dataframe\">\n",
              "  <thead>\n",
              "    <tr style=\"text-align: right;\">\n",
              "      <th></th>\n",
              "      <th>spx</th>\n",
              "      <th>dax</th>\n",
              "      <th>ftse</th>\n",
              "      <th>nikkei</th>\n",
              "    </tr>\n",
              "    <tr>\n",
              "      <th>date</th>\n",
              "      <th></th>\n",
              "      <th></th>\n",
              "      <th></th>\n",
              "      <th></th>\n",
              "    </tr>\n",
              "  </thead>\n",
              "  <tbody>\n",
              "    <tr>\n",
              "      <th>1994-01-07</th>\n",
              "      <td>469.90</td>\n",
              "      <td>2224.95</td>\n",
              "      <td>3445.98</td>\n",
              "      <td>18124.01</td>\n",
              "    </tr>\n",
              "    <tr>\n",
              "      <th>1994-01-10</th>\n",
              "      <td>475.27</td>\n",
              "      <td>2225.00</td>\n",
              "      <td>3440.58</td>\n",
              "      <td>18443.44</td>\n",
              "    </tr>\n",
              "    <tr>\n",
              "      <th>1994-01-11</th>\n",
              "      <td>474.13</td>\n",
              "      <td>2228.10</td>\n",
              "      <td>3413.77</td>\n",
              "      <td>18485.25</td>\n",
              "    </tr>\n",
              "    <tr>\n",
              "      <th>1994-01-12</th>\n",
              "      <td>474.17</td>\n",
              "      <td>2182.06</td>\n",
              "      <td>3372.02</td>\n",
              "      <td>18793.88</td>\n",
              "    </tr>\n",
              "    <tr>\n",
              "      <th>1994-01-13</th>\n",
              "      <td>472.47</td>\n",
              "      <td>2142.37</td>\n",
              "      <td>3360.01</td>\n",
              "      <td>18577.26</td>\n",
              "    </tr>\n",
              "  </tbody>\n",
              "</table>\n",
              "</div>"
            ],
            "text/plain": [
              "               spx      dax     ftse    nikkei\n",
              "date                                          \n",
              "1994-01-07  469.90  2224.95  3445.98  18124.01\n",
              "1994-01-10  475.27  2225.00  3440.58  18443.44\n",
              "1994-01-11  474.13  2228.10  3413.77  18485.25\n",
              "1994-01-12  474.17  2182.06  3372.02  18793.88\n",
              "1994-01-13  472.47  2142.37  3360.01  18577.26"
            ]
          },
          "metadata": {
            "tags": []
          },
          "execution_count": 17
        }
      ]
    },
    {
      "cell_type": "markdown",
      "metadata": {
        "id": "UvJJBf8AQyxt",
        "colab_type": "text"
      },
      "source": [
        "### Handling Missing Values"
      ]
    },
    {
      "cell_type": "code",
      "metadata": {
        "scrolled": true,
        "id": "QXnjsZNQQyxt",
        "colab_type": "code",
        "colab": {
          "base_uri": "https://localhost:8080/",
          "height": 441
        },
        "outputId": "eb0e4b4f-89b5-4338-bac3-f3f0696d4351"
      },
      "source": [
        "df_comp.isna()"
      ],
      "execution_count": 18,
      "outputs": [
        {
          "output_type": "execute_result",
          "data": {
            "text/html": [
              "<div>\n",
              "<style scoped>\n",
              "    .dataframe tbody tr th:only-of-type {\n",
              "        vertical-align: middle;\n",
              "    }\n",
              "\n",
              "    .dataframe tbody tr th {\n",
              "        vertical-align: top;\n",
              "    }\n",
              "\n",
              "    .dataframe thead th {\n",
              "        text-align: right;\n",
              "    }\n",
              "</style>\n",
              "<table border=\"1\" class=\"dataframe\">\n",
              "  <thead>\n",
              "    <tr style=\"text-align: right;\">\n",
              "      <th></th>\n",
              "      <th>spx</th>\n",
              "      <th>dax</th>\n",
              "      <th>ftse</th>\n",
              "      <th>nikkei</th>\n",
              "    </tr>\n",
              "    <tr>\n",
              "      <th>date</th>\n",
              "      <th></th>\n",
              "      <th></th>\n",
              "      <th></th>\n",
              "      <th></th>\n",
              "    </tr>\n",
              "  </thead>\n",
              "  <tbody>\n",
              "    <tr>\n",
              "      <th>1994-01-07</th>\n",
              "      <td>False</td>\n",
              "      <td>False</td>\n",
              "      <td>False</td>\n",
              "      <td>False</td>\n",
              "    </tr>\n",
              "    <tr>\n",
              "      <th>1994-01-10</th>\n",
              "      <td>False</td>\n",
              "      <td>False</td>\n",
              "      <td>False</td>\n",
              "      <td>False</td>\n",
              "    </tr>\n",
              "    <tr>\n",
              "      <th>1994-01-11</th>\n",
              "      <td>False</td>\n",
              "      <td>False</td>\n",
              "      <td>False</td>\n",
              "      <td>False</td>\n",
              "    </tr>\n",
              "    <tr>\n",
              "      <th>1994-01-12</th>\n",
              "      <td>False</td>\n",
              "      <td>False</td>\n",
              "      <td>False</td>\n",
              "      <td>False</td>\n",
              "    </tr>\n",
              "    <tr>\n",
              "      <th>1994-01-13</th>\n",
              "      <td>False</td>\n",
              "      <td>False</td>\n",
              "      <td>False</td>\n",
              "      <td>False</td>\n",
              "    </tr>\n",
              "    <tr>\n",
              "      <th>...</th>\n",
              "      <td>...</td>\n",
              "      <td>...</td>\n",
              "      <td>...</td>\n",
              "      <td>...</td>\n",
              "    </tr>\n",
              "    <tr>\n",
              "      <th>2018-01-23</th>\n",
              "      <td>False</td>\n",
              "      <td>False</td>\n",
              "      <td>False</td>\n",
              "      <td>False</td>\n",
              "    </tr>\n",
              "    <tr>\n",
              "      <th>2018-01-24</th>\n",
              "      <td>False</td>\n",
              "      <td>False</td>\n",
              "      <td>False</td>\n",
              "      <td>False</td>\n",
              "    </tr>\n",
              "    <tr>\n",
              "      <th>2018-01-25</th>\n",
              "      <td>False</td>\n",
              "      <td>False</td>\n",
              "      <td>False</td>\n",
              "      <td>False</td>\n",
              "    </tr>\n",
              "    <tr>\n",
              "      <th>2018-01-26</th>\n",
              "      <td>False</td>\n",
              "      <td>False</td>\n",
              "      <td>False</td>\n",
              "      <td>False</td>\n",
              "    </tr>\n",
              "    <tr>\n",
              "      <th>2018-01-29</th>\n",
              "      <td>False</td>\n",
              "      <td>False</td>\n",
              "      <td>False</td>\n",
              "      <td>False</td>\n",
              "    </tr>\n",
              "  </tbody>\n",
              "</table>\n",
              "<p>6277 rows × 4 columns</p>\n",
              "</div>"
            ],
            "text/plain": [
              "              spx    dax   ftse  nikkei\n",
              "date                                   \n",
              "1994-01-07  False  False  False   False\n",
              "1994-01-10  False  False  False   False\n",
              "1994-01-11  False  False  False   False\n",
              "1994-01-12  False  False  False   False\n",
              "1994-01-13  False  False  False   False\n",
              "...           ...    ...    ...     ...\n",
              "2018-01-23  False  False  False   False\n",
              "2018-01-24  False  False  False   False\n",
              "2018-01-25  False  False  False   False\n",
              "2018-01-26  False  False  False   False\n",
              "2018-01-29  False  False  False   False\n",
              "\n",
              "[6277 rows x 4 columns]"
            ]
          },
          "metadata": {
            "tags": []
          },
          "execution_count": 18
        }
      ]
    },
    {
      "cell_type": "code",
      "metadata": {
        "scrolled": true,
        "id": "t6YaO3kNQyxx",
        "colab_type": "code",
        "colab": {
          "base_uri": "https://localhost:8080/",
          "height": 106
        },
        "outputId": "17aa3eb5-344e-4904-a55d-8f08e29ae8bc"
      },
      "source": [
        "df_comp.isna().sum()"
      ],
      "execution_count": 19,
      "outputs": [
        {
          "output_type": "execute_result",
          "data": {
            "text/plain": [
              "spx       8\n",
              "dax       8\n",
              "ftse      8\n",
              "nikkei    8\n",
              "dtype: int64"
            ]
          },
          "metadata": {
            "tags": []
          },
          "execution_count": 19
        }
      ]
    },
    {
      "cell_type": "code",
      "metadata": {
        "id": "0R0L0HrJQyx0",
        "colab_type": "code",
        "colab": {
          "base_uri": "https://localhost:8080/",
          "height": 441
        },
        "outputId": "4a65d16f-cc78-447b-8f70-a2d8648156ef"
      },
      "source": [
        "df_comp"
      ],
      "execution_count": 20,
      "outputs": [
        {
          "output_type": "execute_result",
          "data": {
            "text/html": [
              "<div>\n",
              "<style scoped>\n",
              "    .dataframe tbody tr th:only-of-type {\n",
              "        vertical-align: middle;\n",
              "    }\n",
              "\n",
              "    .dataframe tbody tr th {\n",
              "        vertical-align: top;\n",
              "    }\n",
              "\n",
              "    .dataframe thead th {\n",
              "        text-align: right;\n",
              "    }\n",
              "</style>\n",
              "<table border=\"1\" class=\"dataframe\">\n",
              "  <thead>\n",
              "    <tr style=\"text-align: right;\">\n",
              "      <th></th>\n",
              "      <th>spx</th>\n",
              "      <th>dax</th>\n",
              "      <th>ftse</th>\n",
              "      <th>nikkei</th>\n",
              "    </tr>\n",
              "    <tr>\n",
              "      <th>date</th>\n",
              "      <th></th>\n",
              "      <th></th>\n",
              "      <th></th>\n",
              "      <th></th>\n",
              "    </tr>\n",
              "  </thead>\n",
              "  <tbody>\n",
              "    <tr>\n",
              "      <th>1994-01-07</th>\n",
              "      <td>469.900000</td>\n",
              "      <td>2224.95</td>\n",
              "      <td>3445.980000</td>\n",
              "      <td>18124.01</td>\n",
              "    </tr>\n",
              "    <tr>\n",
              "      <th>1994-01-10</th>\n",
              "      <td>475.270000</td>\n",
              "      <td>2225.00</td>\n",
              "      <td>3440.580000</td>\n",
              "      <td>18443.44</td>\n",
              "    </tr>\n",
              "    <tr>\n",
              "      <th>1994-01-11</th>\n",
              "      <td>474.130000</td>\n",
              "      <td>2228.10</td>\n",
              "      <td>3413.770000</td>\n",
              "      <td>18485.25</td>\n",
              "    </tr>\n",
              "    <tr>\n",
              "      <th>1994-01-12</th>\n",
              "      <td>474.170000</td>\n",
              "      <td>2182.06</td>\n",
              "      <td>3372.020000</td>\n",
              "      <td>18793.88</td>\n",
              "    </tr>\n",
              "    <tr>\n",
              "      <th>1994-01-13</th>\n",
              "      <td>472.470000</td>\n",
              "      <td>2142.37</td>\n",
              "      <td>3360.010000</td>\n",
              "      <td>18577.26</td>\n",
              "    </tr>\n",
              "    <tr>\n",
              "      <th>...</th>\n",
              "      <td>...</td>\n",
              "      <td>...</td>\n",
              "      <td>...</td>\n",
              "      <td>...</td>\n",
              "    </tr>\n",
              "    <tr>\n",
              "      <th>2018-01-23</th>\n",
              "      <td>2839.130362</td>\n",
              "      <td>13559.60</td>\n",
              "      <td>7731.827774</td>\n",
              "      <td>24124.15</td>\n",
              "    </tr>\n",
              "    <tr>\n",
              "      <th>2018-01-24</th>\n",
              "      <td>2837.544008</td>\n",
              "      <td>13414.74</td>\n",
              "      <td>7643.428966</td>\n",
              "      <td>23940.78</td>\n",
              "    </tr>\n",
              "    <tr>\n",
              "      <th>2018-01-25</th>\n",
              "      <td>2839.253031</td>\n",
              "      <td>13298.36</td>\n",
              "      <td>7615.839954</td>\n",
              "      <td>23669.49</td>\n",
              "    </tr>\n",
              "    <tr>\n",
              "      <th>2018-01-26</th>\n",
              "      <td>2872.867839</td>\n",
              "      <td>13340.17</td>\n",
              "      <td>7665.541292</td>\n",
              "      <td>23631.88</td>\n",
              "    </tr>\n",
              "    <tr>\n",
              "      <th>2018-01-29</th>\n",
              "      <td>2853.528411</td>\n",
              "      <td>13324.48</td>\n",
              "      <td>7671.533300</td>\n",
              "      <td>23629.34</td>\n",
              "    </tr>\n",
              "  </tbody>\n",
              "</table>\n",
              "<p>6277 rows × 4 columns</p>\n",
              "</div>"
            ],
            "text/plain": [
              "                    spx       dax         ftse    nikkei\n",
              "date                                                    \n",
              "1994-01-07   469.900000   2224.95  3445.980000  18124.01\n",
              "1994-01-10   475.270000   2225.00  3440.580000  18443.44\n",
              "1994-01-11   474.130000   2228.10  3413.770000  18485.25\n",
              "1994-01-12   474.170000   2182.06  3372.020000  18793.88\n",
              "1994-01-13   472.470000   2142.37  3360.010000  18577.26\n",
              "...                 ...       ...          ...       ...\n",
              "2018-01-23  2839.130362  13559.60  7731.827774  24124.15\n",
              "2018-01-24  2837.544008  13414.74  7643.428966  23940.78\n",
              "2018-01-25  2839.253031  13298.36  7615.839954  23669.49\n",
              "2018-01-26  2872.867839  13340.17  7665.541292  23631.88\n",
              "2018-01-29  2853.528411  13324.48  7671.533300  23629.34\n",
              "\n",
              "[6277 rows x 4 columns]"
            ]
          },
          "metadata": {
            "tags": []
          },
          "execution_count": 20
        }
      ]
    },
    {
      "cell_type": "code",
      "metadata": {
        "id": "dZojzTXPQyx3",
        "colab_type": "code",
        "colab": {}
      },
      "source": [
        "df_comp.spx=df_comp.spx.fillna(method='ffill')"
      ],
      "execution_count": 21,
      "outputs": []
    },
    {
      "cell_type": "code",
      "metadata": {
        "id": "KeIz3zn9Qyx6",
        "colab_type": "code",
        "colab": {
          "base_uri": "https://localhost:8080/",
          "height": 106
        },
        "outputId": "8591af74-3604-4251-9649-6c28a2721378"
      },
      "source": [
        "df_comp.isna().sum()"
      ],
      "execution_count": 22,
      "outputs": [
        {
          "output_type": "execute_result",
          "data": {
            "text/plain": [
              "spx       0\n",
              "dax       8\n",
              "ftse      8\n",
              "nikkei    8\n",
              "dtype: int64"
            ]
          },
          "metadata": {
            "tags": []
          },
          "execution_count": 22
        }
      ]
    },
    {
      "cell_type": "code",
      "metadata": {
        "id": "-Ww4tBhfQyx8",
        "colab_type": "code",
        "colab": {}
      },
      "source": [
        "df_comp.ftse=df_comp.ftse.fillna(method='bfill')"
      ],
      "execution_count": 23,
      "outputs": []
    },
    {
      "cell_type": "code",
      "metadata": {
        "id": "aJdm9-JpQyx_",
        "colab_type": "code",
        "colab": {}
      },
      "source": [
        "df_comp.dax=df_comp.dax.fillna(value = df_comp.dax.mean())"
      ],
      "execution_count": null,
      "outputs": []
    },
    {
      "cell_type": "markdown",
      "metadata": {
        "id": "vIG7URBuQyyE",
        "colab_type": "text"
      },
      "source": [
        "### Simplifying the Dataset"
      ]
    },
    {
      "cell_type": "code",
      "metadata": {
        "id": "YpjnAAs0QyyF",
        "colab_type": "code",
        "colab": {}
      },
      "source": [
        "df_comp['market_value']=df_comp.spx"
      ],
      "execution_count": 24,
      "outputs": []
    },
    {
      "cell_type": "code",
      "metadata": {
        "id": "XKBQ3K2IQyyJ",
        "colab_type": "code",
        "colab": {
          "base_uri": "https://localhost:8080/",
          "height": 291
        },
        "outputId": "43c1a46a-103b-4043-89a3-660cde7f4871"
      },
      "source": [
        "df_comp.describe()"
      ],
      "execution_count": 25,
      "outputs": [
        {
          "output_type": "execute_result",
          "data": {
            "text/html": [
              "<div>\n",
              "<style scoped>\n",
              "    .dataframe tbody tr th:only-of-type {\n",
              "        vertical-align: middle;\n",
              "    }\n",
              "\n",
              "    .dataframe tbody tr th {\n",
              "        vertical-align: top;\n",
              "    }\n",
              "\n",
              "    .dataframe thead th {\n",
              "        text-align: right;\n",
              "    }\n",
              "</style>\n",
              "<table border=\"1\" class=\"dataframe\">\n",
              "  <thead>\n",
              "    <tr style=\"text-align: right;\">\n",
              "      <th></th>\n",
              "      <th>spx</th>\n",
              "      <th>dax</th>\n",
              "      <th>ftse</th>\n",
              "      <th>nikkei</th>\n",
              "      <th>market_value</th>\n",
              "    </tr>\n",
              "  </thead>\n",
              "  <tbody>\n",
              "    <tr>\n",
              "      <th>count</th>\n",
              "      <td>6277.000000</td>\n",
              "      <td>6269.000000</td>\n",
              "      <td>6277.000000</td>\n",
              "      <td>6269.000000</td>\n",
              "      <td>6277.000000</td>\n",
              "    </tr>\n",
              "    <tr>\n",
              "      <th>mean</th>\n",
              "      <td>1288.642547</td>\n",
              "      <td>6080.063363</td>\n",
              "      <td>5423.690398</td>\n",
              "      <td>14597.055700</td>\n",
              "      <td>1288.642547</td>\n",
              "    </tr>\n",
              "    <tr>\n",
              "      <th>std</th>\n",
              "      <td>487.868210</td>\n",
              "      <td>2754.361032</td>\n",
              "      <td>1145.568370</td>\n",
              "      <td>4043.122953</td>\n",
              "      <td>487.868210</td>\n",
              "    </tr>\n",
              "    <tr>\n",
              "      <th>min</th>\n",
              "      <td>438.920000</td>\n",
              "      <td>1911.700000</td>\n",
              "      <td>2876.600000</td>\n",
              "      <td>7054.980000</td>\n",
              "      <td>438.920000</td>\n",
              "    </tr>\n",
              "    <tr>\n",
              "      <th>25%</th>\n",
              "      <td>992.715221</td>\n",
              "      <td>4069.350000</td>\n",
              "      <td>4487.880000</td>\n",
              "      <td>10709.290000</td>\n",
              "      <td>992.715221</td>\n",
              "    </tr>\n",
              "    <tr>\n",
              "      <th>50%</th>\n",
              "      <td>1233.761241</td>\n",
              "      <td>5773.340000</td>\n",
              "      <td>5663.300000</td>\n",
              "      <td>15028.170000</td>\n",
              "      <td>1233.761241</td>\n",
              "    </tr>\n",
              "    <tr>\n",
              "      <th>75%</th>\n",
              "      <td>1460.250000</td>\n",
              "      <td>7443.070000</td>\n",
              "      <td>6304.630175</td>\n",
              "      <td>17860.470000</td>\n",
              "      <td>1460.250000</td>\n",
              "    </tr>\n",
              "    <tr>\n",
              "      <th>max</th>\n",
              "      <td>2872.867839</td>\n",
              "      <td>13559.600000</td>\n",
              "      <td>7778.637689</td>\n",
              "      <td>24124.150000</td>\n",
              "      <td>2872.867839</td>\n",
              "    </tr>\n",
              "  </tbody>\n",
              "</table>\n",
              "</div>"
            ],
            "text/plain": [
              "               spx           dax         ftse        nikkei  market_value\n",
              "count  6277.000000   6269.000000  6277.000000   6269.000000   6277.000000\n",
              "mean   1288.642547   6080.063363  5423.690398  14597.055700   1288.642547\n",
              "std     487.868210   2754.361032  1145.568370   4043.122953    487.868210\n",
              "min     438.920000   1911.700000  2876.600000   7054.980000    438.920000\n",
              "25%     992.715221   4069.350000  4487.880000  10709.290000    992.715221\n",
              "50%    1233.761241   5773.340000  5663.300000  15028.170000   1233.761241\n",
              "75%    1460.250000   7443.070000  6304.630175  17860.470000   1460.250000\n",
              "max    2872.867839  13559.600000  7778.637689  24124.150000   2872.867839"
            ]
          },
          "metadata": {
            "tags": []
          },
          "execution_count": 25
        }
      ]
    },
    {
      "cell_type": "code",
      "metadata": {
        "id": "k3TJx58nQyyO",
        "colab_type": "code",
        "colab": {}
      },
      "source": [
        "del df_comp['spx']"
      ],
      "execution_count": 26,
      "outputs": []
    },
    {
      "cell_type": "code",
      "metadata": {
        "id": "SfFGQS2EQyyS",
        "colab_type": "code",
        "colab": {
          "base_uri": "https://localhost:8080/",
          "height": 291
        },
        "outputId": "5a93667c-60d2-427c-df11-4aad09c35ae3"
      },
      "source": [
        "df_comp.describe()"
      ],
      "execution_count": 27,
      "outputs": [
        {
          "output_type": "execute_result",
          "data": {
            "text/html": [
              "<div>\n",
              "<style scoped>\n",
              "    .dataframe tbody tr th:only-of-type {\n",
              "        vertical-align: middle;\n",
              "    }\n",
              "\n",
              "    .dataframe tbody tr th {\n",
              "        vertical-align: top;\n",
              "    }\n",
              "\n",
              "    .dataframe thead th {\n",
              "        text-align: right;\n",
              "    }\n",
              "</style>\n",
              "<table border=\"1\" class=\"dataframe\">\n",
              "  <thead>\n",
              "    <tr style=\"text-align: right;\">\n",
              "      <th></th>\n",
              "      <th>dax</th>\n",
              "      <th>ftse</th>\n",
              "      <th>nikkei</th>\n",
              "      <th>market_value</th>\n",
              "    </tr>\n",
              "  </thead>\n",
              "  <tbody>\n",
              "    <tr>\n",
              "      <th>count</th>\n",
              "      <td>6269.000000</td>\n",
              "      <td>6277.000000</td>\n",
              "      <td>6269.000000</td>\n",
              "      <td>6277.000000</td>\n",
              "    </tr>\n",
              "    <tr>\n",
              "      <th>mean</th>\n",
              "      <td>6080.063363</td>\n",
              "      <td>5423.690398</td>\n",
              "      <td>14597.055700</td>\n",
              "      <td>1288.642547</td>\n",
              "    </tr>\n",
              "    <tr>\n",
              "      <th>std</th>\n",
              "      <td>2754.361032</td>\n",
              "      <td>1145.568370</td>\n",
              "      <td>4043.122953</td>\n",
              "      <td>487.868210</td>\n",
              "    </tr>\n",
              "    <tr>\n",
              "      <th>min</th>\n",
              "      <td>1911.700000</td>\n",
              "      <td>2876.600000</td>\n",
              "      <td>7054.980000</td>\n",
              "      <td>438.920000</td>\n",
              "    </tr>\n",
              "    <tr>\n",
              "      <th>25%</th>\n",
              "      <td>4069.350000</td>\n",
              "      <td>4487.880000</td>\n",
              "      <td>10709.290000</td>\n",
              "      <td>992.715221</td>\n",
              "    </tr>\n",
              "    <tr>\n",
              "      <th>50%</th>\n",
              "      <td>5773.340000</td>\n",
              "      <td>5663.300000</td>\n",
              "      <td>15028.170000</td>\n",
              "      <td>1233.761241</td>\n",
              "    </tr>\n",
              "    <tr>\n",
              "      <th>75%</th>\n",
              "      <td>7443.070000</td>\n",
              "      <td>6304.630175</td>\n",
              "      <td>17860.470000</td>\n",
              "      <td>1460.250000</td>\n",
              "    </tr>\n",
              "    <tr>\n",
              "      <th>max</th>\n",
              "      <td>13559.600000</td>\n",
              "      <td>7778.637689</td>\n",
              "      <td>24124.150000</td>\n",
              "      <td>2872.867839</td>\n",
              "    </tr>\n",
              "  </tbody>\n",
              "</table>\n",
              "</div>"
            ],
            "text/plain": [
              "                dax         ftse        nikkei  market_value\n",
              "count   6269.000000  6277.000000   6269.000000   6277.000000\n",
              "mean    6080.063363  5423.690398  14597.055700   1288.642547\n",
              "std     2754.361032  1145.568370   4043.122953    487.868210\n",
              "min     1911.700000  2876.600000   7054.980000    438.920000\n",
              "25%     4069.350000  4487.880000  10709.290000    992.715221\n",
              "50%     5773.340000  5663.300000  15028.170000   1233.761241\n",
              "75%     7443.070000  6304.630175  17860.470000   1460.250000\n",
              "max    13559.600000  7778.637689  24124.150000   2872.867839"
            ]
          },
          "metadata": {
            "tags": []
          },
          "execution_count": 27
        }
      ]
    },
    {
      "cell_type": "code",
      "metadata": {
        "id": "6kfn28zMQyyW",
        "colab_type": "code",
        "colab": {}
      },
      "source": [
        "del df_comp['dax']\n",
        "del df_comp['ftse']\n",
        "del df_comp['nikkei']"
      ],
      "execution_count": 29,
      "outputs": []
    },
    {
      "cell_type": "code",
      "metadata": {
        "id": "gYPzUbBtQyya",
        "colab_type": "code",
        "colab": {
          "base_uri": "https://localhost:8080/",
          "height": 291
        },
        "outputId": "8878c749-6427-473b-e583-015035f1ddf7"
      },
      "source": [
        "df_comp.describe()"
      ],
      "execution_count": 28,
      "outputs": [
        {
          "output_type": "execute_result",
          "data": {
            "text/html": [
              "<div>\n",
              "<style scoped>\n",
              "    .dataframe tbody tr th:only-of-type {\n",
              "        vertical-align: middle;\n",
              "    }\n",
              "\n",
              "    .dataframe tbody tr th {\n",
              "        vertical-align: top;\n",
              "    }\n",
              "\n",
              "    .dataframe thead th {\n",
              "        text-align: right;\n",
              "    }\n",
              "</style>\n",
              "<table border=\"1\" class=\"dataframe\">\n",
              "  <thead>\n",
              "    <tr style=\"text-align: right;\">\n",
              "      <th></th>\n",
              "      <th>dax</th>\n",
              "      <th>ftse</th>\n",
              "      <th>nikkei</th>\n",
              "      <th>market_value</th>\n",
              "    </tr>\n",
              "  </thead>\n",
              "  <tbody>\n",
              "    <tr>\n",
              "      <th>count</th>\n",
              "      <td>6269.000000</td>\n",
              "      <td>6277.000000</td>\n",
              "      <td>6269.000000</td>\n",
              "      <td>6277.000000</td>\n",
              "    </tr>\n",
              "    <tr>\n",
              "      <th>mean</th>\n",
              "      <td>6080.063363</td>\n",
              "      <td>5423.690398</td>\n",
              "      <td>14597.055700</td>\n",
              "      <td>1288.642547</td>\n",
              "    </tr>\n",
              "    <tr>\n",
              "      <th>std</th>\n",
              "      <td>2754.361032</td>\n",
              "      <td>1145.568370</td>\n",
              "      <td>4043.122953</td>\n",
              "      <td>487.868210</td>\n",
              "    </tr>\n",
              "    <tr>\n",
              "      <th>min</th>\n",
              "      <td>1911.700000</td>\n",
              "      <td>2876.600000</td>\n",
              "      <td>7054.980000</td>\n",
              "      <td>438.920000</td>\n",
              "    </tr>\n",
              "    <tr>\n",
              "      <th>25%</th>\n",
              "      <td>4069.350000</td>\n",
              "      <td>4487.880000</td>\n",
              "      <td>10709.290000</td>\n",
              "      <td>992.715221</td>\n",
              "    </tr>\n",
              "    <tr>\n",
              "      <th>50%</th>\n",
              "      <td>5773.340000</td>\n",
              "      <td>5663.300000</td>\n",
              "      <td>15028.170000</td>\n",
              "      <td>1233.761241</td>\n",
              "    </tr>\n",
              "    <tr>\n",
              "      <th>75%</th>\n",
              "      <td>7443.070000</td>\n",
              "      <td>6304.630175</td>\n",
              "      <td>17860.470000</td>\n",
              "      <td>1460.250000</td>\n",
              "    </tr>\n",
              "    <tr>\n",
              "      <th>max</th>\n",
              "      <td>13559.600000</td>\n",
              "      <td>7778.637689</td>\n",
              "      <td>24124.150000</td>\n",
              "      <td>2872.867839</td>\n",
              "    </tr>\n",
              "  </tbody>\n",
              "</table>\n",
              "</div>"
            ],
            "text/plain": [
              "                dax         ftse        nikkei  market_value\n",
              "count   6269.000000  6277.000000   6269.000000   6277.000000\n",
              "mean    6080.063363  5423.690398  14597.055700   1288.642547\n",
              "std     2754.361032  1145.568370   4043.122953    487.868210\n",
              "min     1911.700000  2876.600000   7054.980000    438.920000\n",
              "25%     4069.350000  4487.880000  10709.290000    992.715221\n",
              "50%     5773.340000  5663.300000  15028.170000   1233.761241\n",
              "75%     7443.070000  6304.630175  17860.470000   1460.250000\n",
              "max    13559.600000  7778.637689  24124.150000   2872.867839"
            ]
          },
          "metadata": {
            "tags": []
          },
          "execution_count": 28
        }
      ]
    },
    {
      "cell_type": "markdown",
      "metadata": {
        "id": "ksxVo5hRQyyg",
        "colab_type": "text"
      },
      "source": [
        "### Splitting the Data"
      ]
    },
    {
      "cell_type": "code",
      "metadata": {
        "id": "pPLXI4IXQyyi",
        "colab_type": "code",
        "colab": {}
      },
      "source": [
        "size = int(len(df_comp)*0.8)"
      ],
      "execution_count": 32,
      "outputs": []
    },
    {
      "cell_type": "code",
      "metadata": {
        "id": "BUU403PDQyym",
        "colab_type": "code",
        "colab": {}
      },
      "source": [
        "df = df_comp.iloc[:size]"
      ],
      "execution_count": 33,
      "outputs": []
    },
    {
      "cell_type": "code",
      "metadata": {
        "id": "sCUg9VsKQyyr",
        "colab_type": "code",
        "colab": {}
      },
      "source": [
        "df_test = df_comp.iloc[size:]"
      ],
      "execution_count": 34,
      "outputs": []
    },
    {
      "cell_type": "code",
      "metadata": {
        "id": "lpKtQ5ifQyyv",
        "colab_type": "code",
        "colab": {
          "base_uri": "https://localhost:8080/",
          "height": 230
        },
        "outputId": "bc1d7a71-587f-440a-dfc5-3d3c4487acc3"
      },
      "source": [
        "df.tail()"
      ],
      "execution_count": 35,
      "outputs": [
        {
          "output_type": "execute_result",
          "data": {
            "text/html": [
              "<div>\n",
              "<style scoped>\n",
              "    .dataframe tbody tr th:only-of-type {\n",
              "        vertical-align: middle;\n",
              "    }\n",
              "\n",
              "    .dataframe tbody tr th {\n",
              "        vertical-align: top;\n",
              "    }\n",
              "\n",
              "    .dataframe thead th {\n",
              "        text-align: right;\n",
              "    }\n",
              "</style>\n",
              "<table border=\"1\" class=\"dataframe\">\n",
              "  <thead>\n",
              "    <tr style=\"text-align: right;\">\n",
              "      <th></th>\n",
              "      <th>market_value</th>\n",
              "    </tr>\n",
              "    <tr>\n",
              "      <th>date</th>\n",
              "      <th></th>\n",
              "    </tr>\n",
              "  </thead>\n",
              "  <tbody>\n",
              "    <tr>\n",
              "      <th>2013-04-01</th>\n",
              "      <td>1562.173837</td>\n",
              "    </tr>\n",
              "    <tr>\n",
              "      <th>2013-04-02</th>\n",
              "      <td>1570.252238</td>\n",
              "    </tr>\n",
              "    <tr>\n",
              "      <th>2013-04-03</th>\n",
              "      <td>1553.686978</td>\n",
              "    </tr>\n",
              "    <tr>\n",
              "      <th>2013-04-04</th>\n",
              "      <td>1559.979316</td>\n",
              "    </tr>\n",
              "    <tr>\n",
              "      <th>2013-04-05</th>\n",
              "      <td>1553.278930</td>\n",
              "    </tr>\n",
              "  </tbody>\n",
              "</table>\n",
              "</div>"
            ],
            "text/plain": [
              "            market_value\n",
              "date                    \n",
              "2013-04-01   1562.173837\n",
              "2013-04-02   1570.252238\n",
              "2013-04-03   1553.686978\n",
              "2013-04-04   1559.979316\n",
              "2013-04-05   1553.278930"
            ]
          },
          "metadata": {
            "tags": []
          },
          "execution_count": 35
        }
      ]
    },
    {
      "cell_type": "code",
      "metadata": {
        "id": "FKbWp-RZQyy0",
        "colab_type": "code",
        "colab": {
          "base_uri": "https://localhost:8080/",
          "height": 230
        },
        "outputId": "dab0af59-fe9f-4860-e1b2-f9ad1b7613ef"
      },
      "source": [
        "df_test.head()"
      ],
      "execution_count": 36,
      "outputs": [
        {
          "output_type": "execute_result",
          "data": {
            "text/html": [
              "<div>\n",
              "<style scoped>\n",
              "    .dataframe tbody tr th:only-of-type {\n",
              "        vertical-align: middle;\n",
              "    }\n",
              "\n",
              "    .dataframe tbody tr th {\n",
              "        vertical-align: top;\n",
              "    }\n",
              "\n",
              "    .dataframe thead th {\n",
              "        text-align: right;\n",
              "    }\n",
              "</style>\n",
              "<table border=\"1\" class=\"dataframe\">\n",
              "  <thead>\n",
              "    <tr style=\"text-align: right;\">\n",
              "      <th></th>\n",
              "      <th>market_value</th>\n",
              "    </tr>\n",
              "    <tr>\n",
              "      <th>date</th>\n",
              "      <th></th>\n",
              "    </tr>\n",
              "  </thead>\n",
              "  <tbody>\n",
              "    <tr>\n",
              "      <th>2013-04-08</th>\n",
              "      <td>1563.071269</td>\n",
              "    </tr>\n",
              "    <tr>\n",
              "      <th>2013-04-09</th>\n",
              "      <td>1568.607909</td>\n",
              "    </tr>\n",
              "    <tr>\n",
              "      <th>2013-04-10</th>\n",
              "      <td>1587.731827</td>\n",
              "    </tr>\n",
              "    <tr>\n",
              "      <th>2013-04-11</th>\n",
              "      <td>1593.369863</td>\n",
              "    </tr>\n",
              "    <tr>\n",
              "      <th>2013-04-12</th>\n",
              "      <td>1588.854623</td>\n",
              "    </tr>\n",
              "  </tbody>\n",
              "</table>\n",
              "</div>"
            ],
            "text/plain": [
              "            market_value\n",
              "date                    \n",
              "2013-04-08   1563.071269\n",
              "2013-04-09   1568.607909\n",
              "2013-04-10   1587.731827\n",
              "2013-04-11   1593.369863\n",
              "2013-04-12   1588.854623"
            ]
          },
          "metadata": {
            "tags": []
          },
          "execution_count": 36
        }
      ]
    }
  ]
}