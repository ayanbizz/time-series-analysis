{
  "nbformat": 4,
  "nbformat_minor": 0,
  "metadata": {
    "colab": {
      "name": "Datetime_Manipulation.ipynb",
      "provenance": [],
      "include_colab_link": true
    },
    "kernelspec": {
      "name": "python3",
      "display_name": "Python 3"
    }
  },
  "cells": [
    {
      "cell_type": "markdown",
      "metadata": {
        "id": "view-in-github",
        "colab_type": "text"
      },
      "source": [
        "<a href=\"https://colab.research.google.com/github/ayanbizz/time-series-analysis/blob/master/Datetime_Manipulation.ipynb\" target=\"_parent\"><img src=\"https://colab.research.google.com/assets/colab-badge.svg\" alt=\"Open In Colab\"/></a>"
      ]
    },
    {
      "cell_type": "markdown",
      "metadata": {
        "id": "CeAa7i-ibVu7",
        "colab_type": "text"
      },
      "source": [
        "Date Time Formatting in **Python** "
      ]
    },
    {
      "cell_type": "code",
      "metadata": {
        "id": "cs96wOKhbgu_",
        "colab_type": "code",
        "colab": {}
      },
      "source": [
        "import pandas as pd\n",
        "import numpy as np\n",
        "from datetime import datetime"
      ],
      "execution_count": 0,
      "outputs": []
    },
    {
      "cell_type": "code",
      "metadata": {
        "id": "7fruoWtEble3",
        "colab_type": "code",
        "outputId": "188ba0be-d299-447b-de09-669b70dd1460",
        "colab": {
          "base_uri": "https://localhost:8080/",
          "height": 136
        }
      },
      "source": [
        "np.arange('2019-01-01','2019-01-27',dtype='datetime64[D]')"
      ],
      "execution_count": 2,
      "outputs": [
        {
          "output_type": "execute_result",
          "data": {
            "text/plain": [
              "array(['2019-01-01', '2019-01-02', '2019-01-03', '2019-01-04',\n",
              "       '2019-01-05', '2019-01-06', '2019-01-07', '2019-01-08',\n",
              "       '2019-01-09', '2019-01-10', '2019-01-11', '2019-01-12',\n",
              "       '2019-01-13', '2019-01-14', '2019-01-15', '2019-01-16',\n",
              "       '2019-01-17', '2019-01-18', '2019-01-19', '2019-01-20',\n",
              "       '2019-01-21', '2019-01-22', '2019-01-23', '2019-01-24',\n",
              "       '2019-01-25', '2019-01-26'], dtype='datetime64[D]')"
            ]
          },
          "metadata": {
            "tags": []
          },
          "execution_count": 2
        }
      ]
    },
    {
      "cell_type": "code",
      "metadata": {
        "id": "FvITWOhOcbAI",
        "colab_type": "code",
        "outputId": "ab026c46-726d-4c90-9ae5-5450e7195b64",
        "colab": {
          "base_uri": "https://localhost:8080/",
          "height": 85
        }
      },
      "source": [
        "np.arange('2019-01-01','2019-01-27',2,dtype='datetime64[D]')"
      ],
      "execution_count": 3,
      "outputs": [
        {
          "output_type": "execute_result",
          "data": {
            "text/plain": [
              "array(['2019-01-01', '2019-01-03', '2019-01-05', '2019-01-07',\n",
              "       '2019-01-09', '2019-01-11', '2019-01-13', '2019-01-15',\n",
              "       '2019-01-17', '2019-01-19', '2019-01-21', '2019-01-23',\n",
              "       '2019-01-25'], dtype='datetime64[D]')"
            ]
          },
          "metadata": {
            "tags": []
          },
          "execution_count": 3
        }
      ]
    },
    {
      "cell_type": "code",
      "metadata": {
        "id": "sE_qxZVIco-1",
        "colab_type": "code",
        "outputId": "9efc4378-5c16-41fc-902d-dcc319d4422c",
        "colab": {
          "base_uri": "https://localhost:8080/",
          "height": 102
        }
      },
      "source": [
        "pd.date_range('2019-01-01','2019-01-27',periods=7)\n"
      ],
      "execution_count": 4,
      "outputs": [
        {
          "output_type": "execute_result",
          "data": {
            "text/plain": [
              "DatetimeIndex(['2019-01-01 00:00:00', '2019-01-05 08:00:00',\n",
              "               '2019-01-09 16:00:00', '2019-01-14 00:00:00',\n",
              "               '2019-01-18 08:00:00', '2019-01-22 16:00:00',\n",
              "               '2019-01-27 00:00:00'],\n",
              "              dtype='datetime64[ns]', freq=None)"
            ]
          },
          "metadata": {
            "tags": []
          },
          "execution_count": 4
        }
      ]
    },
    {
      "cell_type": "code",
      "metadata": {
        "id": "qBIarhhrdofg",
        "colab_type": "code",
        "outputId": "cb76ec1e-6c73-471c-86c1-f3d688666cf4",
        "colab": {
          "base_uri": "https://localhost:8080/",
          "height": 102
        }
      },
      "source": [
        "data = np.random.rand(4,2)\n",
        "data.shape\n",
        "cols =['A','B']\n",
        "idx=pd.date_range('2020-01-01',periods=4,freq='D')\n",
        "#idx\n",
        "df= pd.DataFrame(data,columns=cols,index=idx)\n",
        "print(df)\n"
      ],
      "execution_count": 5,
      "outputs": [
        {
          "output_type": "stream",
          "text": [
            "                   A         B\n",
            "2020-01-01  0.109252  0.588318\n",
            "2020-01-02  0.026779  0.693156\n",
            "2020-01-03  0.755757  0.493718\n",
            "2020-01-04  0.459333  0.253924\n"
          ],
          "name": "stdout"
        }
      ]
    },
    {
      "cell_type": "code",
      "metadata": {
        "id": "EwL3osrRfb-e",
        "colab_type": "code",
        "outputId": "46d76326-6372-4d91-de61-fe2e9bfd9996",
        "colab": {
          "base_uri": "https://localhost:8080/",
          "height": 54
        }
      },
      "source": [
        "df.index.max"
      ],
      "execution_count": 6,
      "outputs": [
        {
          "output_type": "execute_result",
          "data": {
            "text/plain": [
              "<bound method DatetimeIndexOpsMixin.max of DatetimeIndex(['2020-01-01', '2020-01-02', '2020-01-03', '2020-01-04'], dtype='datetime64[ns]', freq='D')>"
            ]
          },
          "metadata": {
            "tags": []
          },
          "execution_count": 6
        }
      ]
    }
  ]
}